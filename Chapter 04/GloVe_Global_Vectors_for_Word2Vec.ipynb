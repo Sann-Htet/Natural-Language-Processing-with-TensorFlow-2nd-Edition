{
  "nbformat": 4,
  "nbformat_minor": 0,
  "metadata": {
    "colab": {
      "provenance": [],
      "gpuType": "T4"
    },
    "kernelspec": {
      "name": "python3",
      "display_name": "Python 3"
    },
    "language_info": {
      "name": "python"
    },
    "accelerator": "GPU"
  },
  "cells": [
    {
      "cell_type": "code",
      "execution_count": 1,
      "metadata": {
        "id": "ksLMO7rEE0lY"
      },
      "outputs": [],
      "source": [
        "from six.moves.urllib.request import urlretrieve\n",
        "import zipfile\n",
        "import numpy as np\n",
        "import pandas as pd\n",
        "import os\n",
        "import time\n",
        "import random\n",
        "import tensorflow as tf\n",
        "from matplotlib import pylab\n",
        "from scipy.sparse import lil_matrix"
      ]
    },
    {
      "cell_type": "markdown",
      "source": [
        "## Understanding the data\n",
        "### Downloading the data\n",
        "This code downloads a BBC dataset consisting of news articles published by BBC."
      ],
      "metadata": {
        "id": "ew61isQ2LdgF"
      }
    },
    {
      "cell_type": "code",
      "source": [
        "url = 'http://mlg.ucd.ie/files/datasets/bbc-fulltext.zip'\n",
        "\n",
        "def download_data(url, data_dir):\n",
        "    \"\"\"Download a file if not present, and make sure it's the right size.\"\"\"\n",
        "\n",
        "    # Create the data directory if not exist\n",
        "    os.makedirs(data_dir, exist_ok=True)\n",
        "\n",
        "    file_path = os.path.join(data_dir, 'bbc-fulltext.zip')\n",
        "\n",
        "    # If file doesnt exist, download\n",
        "    if not os.path.exists(file_path):\n",
        "        print('Downloading file...')\n",
        "        filename, _ = urlretrieve(url, file_path)\n",
        "    else:\n",
        "        print(\"File already exists\")\n",
        "\n",
        "    extract_path = os.path.join(data_dir, 'bbc')\n",
        "\n",
        "    # If data has not been extracted already, extract data\n",
        "    if not os.path.exists(extract_path):\n",
        "        with zipfile.ZipFile(os.path.join(data_dir, 'bbc-fulltext.zip'), 'r') as zipf:\n",
        "            zipf.extractall(data_dir)\n",
        "    else:\n",
        "        print(\"bbc-fulltext.zip has already been extracted\")\n",
        "\n",
        "download_data(url, 'data')"
      ],
      "metadata": {
        "colab": {
          "base_uri": "https://localhost:8080/"
        },
        "id": "wltEPCcFLVMI",
        "outputId": "29787c4e-b93e-40ab-9b47-1cfb10b1e8fd"
      },
      "execution_count": 2,
      "outputs": [
        {
          "output_type": "stream",
          "name": "stdout",
          "text": [
            "Downloading file...\n"
          ]
        }
      ]
    },
    {
      "cell_type": "markdown",
      "source": [
        "### Read Data without Preprocessing\n",
        "Here we read all the files and keep them as a list of strings, where each string is a single article"
      ],
      "metadata": {
        "id": "uQhi5W6BL0Io"
      }
    },
    {
      "cell_type": "code",
      "source": [
        "def read_data(data_dir):\n",
        "    # This will contain the full list of stories\n",
        "    news_stories = []\n",
        "\n",
        "    print(\"Reading files\")\n",
        "\n",
        "    i = 0 # Just used for printing progress\n",
        "    for root, dirs, files in os.walk(data_dir):\n",
        "        for fi, f in enumerate(files):\n",
        "            # We don't read the readme file\n",
        "            if 'README' in f:\n",
        "                continue\n",
        "\n",
        "            # Printing progress\n",
        "            i += 1\n",
        "            print(\".\"*i, f, end='\\r')\n",
        "\n",
        "            # Open the file\n",
        "            with open(os.path.join(root, f), encoding='latin-1') as f:\n",
        "                story = []\n",
        "                # Read all the lines\n",
        "                for row in f:\n",
        "                    story.append(row.strip())\n",
        "\n",
        "                # Create a single string with all the rows in the doc\n",
        "                story = ' '.join(story)\n",
        "                # Add that to the list\n",
        "                news_stories.append(story)\n",
        "\n",
        "        print('', end='\\r')\n",
        "\n",
        "    print(f\"\\nDetected {len(news_stories)} stories\")\n",
        "    return news_stories\n",
        "\n",
        "\n",
        "news_stories = read_data(os.path.join('data', 'bbc'))\n",
        "\n",
        "# Printing some stats and sample data\n",
        "print(f\"{sum([len(story.split(' ')) for story in news_stories])} words found in the total news set\")\n",
        "print('Example words (start): ',news_stories[0][:50])\n",
        "print('Example words (end): ',news_stories[-1][-50:])"
      ],
      "metadata": {
        "colab": {
          "base_uri": "https://localhost:8080/"
        },
        "id": "8sGfeKryLm9q",
        "outputId": "e0ff7ca3-dc87-4943-b120-19cdcc2be460"
      },
      "execution_count": 3,
      "outputs": [
        {
          "output_type": "stream",
          "name": "stdout",
          "text": [
            "Reading files\n",
            "................................................................................................................................................................................................................................................................................................................................................................................................................................................................................................................................................................................................................................................................................................................................................................................................................................................................................................................................................................................................................................................................................................................................................................................................................................................................................................................................................................................................................................................................................................................................................................................................................................................................................................................................................................................................................................................................................................................................................................................................................................................................................................................................................................................................................................................................................................................. 425.txt\n",
            "Detected 2225 stories\n",
            "865163 words found in the total news set\n",
            "Example words (start):  Lennon brands Rangers favourites  Celtic's Neil Le\n",
            "Example words (end):  er the circumstances that led to the restatement.\"\n"
          ]
        }
      ]
    },
    {
      "cell_type": "markdown",
      "source": [
        "## Build a Tokenizer\n",
        "Here we build a tokenizer, that performs simple preprocessing like,\n",
        "\n",
        "- Converting letters to lower case\n",
        "- Removing punctuation\n",
        "\n",
        "and tokenize the strings based on a defined separator. Then each token is converted to an Integer ID, as computers understand numbers, not strings. In the background, the tokenizer builds a word to index dictionary, that defines a unique ID for each word in the vocabulary."
      ],
      "metadata": {
        "id": "46HW1ZDBMP2C"
      }
    },
    {
      "cell_type": "code",
      "source": [
        "from tensorflow.keras.preprocessing.text import Tokenizer\n",
        "\n",
        "n_vocab = 15000 + 1\n",
        "tokenizer = Tokenizer(\n",
        "    num_words=n_vocab - 1,\n",
        "    filters='!\"#$%&()*+,-./:;<=>?@[\\\\]^_`{|}~\\t\\n',\n",
        "    lower=True, split=' ', oov_token=''\n",
        ")\n",
        "\n",
        "tokenizer.fit_on_texts(news_stories)\n",
        "print(\"Data fitted on the tokenizer\")"
      ],
      "metadata": {
        "colab": {
          "base_uri": "https://localhost:8080/"
        },
        "id": "PsgQJO2PMApE",
        "outputId": "523389f7-eb04-41af-e876-1bf6831a95ce"
      },
      "execution_count": 4,
      "outputs": [
        {
          "output_type": "stream",
          "name": "stdout",
          "text": [
            "Data fitted on the tokenizer\n"
          ]
        }
      ]
    },
    {
      "cell_type": "markdown",
      "source": [
        "## Generating the word co-occurrence matrix\n",
        "Why GloVe shine above context window based method is that it employs global statistics of the corpus in to the model (according to authors). This is done by using information from the word co-occurance matrix to optimize the word vectors. Basically, the $X(i, j)$\n",
        " entry of the co-occurance matrix says how frequent word $i$\n",
        " to appear near $j$.\n",
        "\n",
        "We also use an optional weighting mechanishm to give more weight to words close together than to the ones further-apart (from experiments section of the paper).\n",
        "\n",
        "**Note:** When generating the matrix for the first time, it will take a significant amount of time to run"
      ],
      "metadata": {
        "id": "ZGpEqzYVMoKK"
      }
    },
    {
      "cell_type": "code",
      "source": [
        "from scipy.sparse import save_npz, load_npz\n",
        "\n",
        "def generate_cooc_matrix(text, tokenizer, window_size, n_vocab, use_weighting=True):\n",
        "    # Convert list of text to list of list of word IDs\n",
        "    sequences = tokenizer.texts_to_sequences(text)\n",
        "\n",
        "    # A sparse matrix to retain co-occurrences of words\n",
        "    cooc_mat = lil_matrix((n_vocab, n_vocab), dtype=np.float32)\n",
        "\n",
        "    # Go through each sequence one by one\n",
        "    for si, sequence in enumerate(sequences):\n",
        "\n",
        "        # Printing the progress\n",
        "        if (si+1)%100==0:\n",
        "            print('.'*((si+1)//100), f\"{si+1}/{len(sequences)}\", end='\\r')\n",
        "\n",
        "        # For each target word,\n",
        "        for i, wi in zip(np.arange(window_size, len(sequence)-window_size), sequence[window_size:-window_size]):\n",
        "\n",
        "            # Get the context window word IDs\n",
        "            context_window = sequence[i-window_size: i+window_size+1]\n",
        "\n",
        "            # The weight for the words in the context window (except target word) will be 1\n",
        "            window_weights = np.ones(shape=(window_size*2 + 1,), dtype=np.float32)\n",
        "            window_weights[window_size] = 0.0\n",
        "\n",
        "            if use_weighting:\n",
        "                # If weighting is used, penalize context words based on distance to target word\n",
        "                distances = np.abs(np.arange(-window_size, window_size+1))\n",
        "                distances[window_size] = 1.0\n",
        "                # Update the sparse matrix\n",
        "                cooc_mat[wi, context_window] += window_weights/distances\n",
        "            else:\n",
        "                # Update the sparse matrix\n",
        "                cooc_mat[wi, context_window] += window_weights\n",
        "\n",
        "    print(\"\\n\")\n",
        "\n",
        "    return cooc_mat\n",
        "\n",
        "# ----------------------------------------- IMPORTANT ---------------------------------------------- #\n",
        "#                                                                                                    #\n",
        "# Set this true or false, depending on whether you want to generate the matrix or reuse the existing #\n",
        "#                                                                                                    #\n",
        "# ---------------------------------------------------------------------------------------------------#\n",
        "generate_cooc = True\n",
        "\n",
        "# Generate the matrix\n",
        "if generate_cooc:\n",
        "    t1 = time.time()\n",
        "    cooc_mat = generate_cooc_matrix(news_stories, tokenizer, 1, n_vocab, True)\n",
        "    t2 = time.time()\n",
        "    print(f\"It took {t2-t1} seconds to generate the co-occurrence matrix\")\n",
        "\n",
        "    save_npz(os.path.join('data','cooc_mat.npz'), cooc_mat.tocsr())\n",
        "# Load the matrix from disk\n",
        "else:\n",
        "    try:\n",
        "        cooc_mat = load_npz(os.path.join('data','cooc_mat.npz')).tolil()\n",
        "        print(f\"Cooc matrix of type {type(cooc_mat).__name__} was loaded from disk\")\n",
        "    except FileNotFoundError as ex:\n",
        "        raise FileNotFoundError(\n",
        "            \"Could not find the co-occurrence matrix on the disk. Did you generate the matrix by setting generate_cooc=True?\"\n",
        "        )"
      ],
      "metadata": {
        "colab": {
          "base_uri": "https://localhost:8080/"
        },
        "id": "WBa9gB9lMj1V",
        "outputId": "e7a01b51-c8b9-46c9-be85-9c34c80972aa"
      },
      "execution_count": 5,
      "outputs": [
        {
          "output_type": "stream",
          "name": "stdout",
          "text": [
            "\n",
            "\n",
            "It took 848.7204871177673 seconds to generate the co-occurrence matrix\n"
          ]
        }
      ]
    },
    {
      "cell_type": "markdown",
      "source": [
        "### Checking the validity of the co-occurrence matrix\n",
        "Here we will see if the context around a given word has sensible words appearing in it"
      ],
      "metadata": {
        "id": "YB1L5OIoOMq_"
      }
    },
    {
      "cell_type": "code",
      "source": [
        "import matplotlib.pyplot as plt\n",
        "\n",
        "word = 'sport'\n",
        "assert word in tokenizer.word_index, f\"Word {word} is not in the tokenizer\"\n",
        "assert tokenizer.word_index[word] <= n_vocab, f\"The word {word} is an out of vocabuary word. Please try something else\"\n",
        "\n",
        "# Get the vector of co-occurrences for a given word\n",
        "cooc_vec = np.array(cooc_mat.getrow(tokenizer.word_index[word]).todense()).ravel()\n",
        "# Get indices of words with maximum value\n",
        "max_ind = np.argsort(cooc_vec)[-25:]\n",
        "\n",
        "# Plot the words and values\n",
        "plt.figure(figsize=(16,8))\n",
        "plt.bar(np.arange(0, 25), cooc_vec[max_ind])\n",
        "plt.xticks(ticks=np.arange(0, 25), labels=[tokenizer.index_word[i] for i in max_ind], rotation=60)"
      ],
      "metadata": {
        "colab": {
          "base_uri": "https://localhost:8080/",
          "height": 1000
        },
        "id": "ikKaX_r0NKEV",
        "outputId": "3545caa5-a2af-437f-92ff-29e41761cd08"
      },
      "execution_count": 6,
      "outputs": [
        {
          "output_type": "execute_result",
          "data": {
            "text/plain": [
              "([<matplotlib.axis.XTick at 0x7e6fa1deb520>,\n",
              "  <matplotlib.axis.XTick at 0x7e6fa1deb490>,\n",
              "  <matplotlib.axis.XTick at 0x7e6fa1e52b90>,\n",
              "  <matplotlib.axis.XTick at 0x7e6f9df456c0>,\n",
              "  <matplotlib.axis.XTick at 0x7e6f9df46170>,\n",
              "  <matplotlib.axis.XTick at 0x7e6f9df46c20>,\n",
              "  <matplotlib.axis.XTick at 0x7e6f9df459c0>,\n",
              "  <matplotlib.axis.XTick at 0x7e6f9df477f0>,\n",
              "  <matplotlib.axis.XTick at 0x7e6f9df742e0>,\n",
              "  <matplotlib.axis.XTick at 0x7e6f9df74d90>,\n",
              "  <matplotlib.axis.XTick at 0x7e6f9df75840>,\n",
              "  <matplotlib.axis.XTick at 0x7e6f9df750c0>,\n",
              "  <matplotlib.axis.XTick at 0x7e6f9df76140>,\n",
              "  <matplotlib.axis.XTick at 0x7e6f9df76bf0>,\n",
              "  <matplotlib.axis.XTick at 0x7e6f9df776a0>,\n",
              "  <matplotlib.axis.XTick at 0x7e6f9df47070>,\n",
              "  <matplotlib.axis.XTick at 0x7e6f9df77fa0>,\n",
              "  <matplotlib.axis.XTick at 0x7e6f9df90a90>,\n",
              "  <matplotlib.axis.XTick at 0x7e6f9df91540>,\n",
              "  <matplotlib.axis.XTick at 0x7e6f9df91ff0>,\n",
              "  <matplotlib.axis.XTick at 0x7e6f9df91780>,\n",
              "  <matplotlib.axis.XTick at 0x7e6f9df92a10>,\n",
              "  <matplotlib.axis.XTick at 0x7e6f9df934c0>,\n",
              "  <matplotlib.axis.XTick at 0x7e6f9df93f70>,\n",
              "  <matplotlib.axis.XTick at 0x7e6f9dfa8a60>],\n",
              " [Text(0, 0, 'you'),\n",
              "  Text(1, 0, \"we've\"),\n",
              "  Text(2, 0, 'also'),\n",
              "  Text(3, 0, 'said'),\n",
              "  Text(4, 0, 'it'),\n",
              "  Text(5, 0, 'he'),\n",
              "  Text(6, 0, 'i'),\n",
              "  Text(7, 0, 'cas'),\n",
              "  Text(8, 0, 'understands'),\n",
              "  Text(9, 0, 'website'),\n",
              "  Text(10, 0, 'we'),\n",
              "  Text(11, 0, 'a'),\n",
              "  Text(12, 0, 'is'),\n",
              "  Text(13, 0, 'school'),\n",
              "  Text(14, 0, 'on'),\n",
              "  Text(15, 0, \"it's\"),\n",
              "  Text(16, 0, 'wales'),\n",
              "  Text(17, 0, 'that'),\n",
              "  Text(18, 0, ''),\n",
              "  Text(19, 0, 'of'),\n",
              "  Text(20, 0, 'in'),\n",
              "  Text(21, 0, 'and'),\n",
              "  Text(22, 0, 'for'),\n",
              "  Text(23, 0, 'the'),\n",
              "  Text(24, 0, 'bbc')])"
            ]
          },
          "metadata": {},
          "execution_count": 6
        },
        {
          "output_type": "display_data",
          "data": {
            "text/plain": [
              "<Figure size 1600x800 with 1 Axes>"
            ],
            "image/png": "[encoded data removed]"
          },
          "metadata": {}
        }
      ]
    },
    {
      "cell_type": "markdown",
      "source": [
        "## GloVe Algorithm\n",
        "### Defining Hyperparameters\n",
        "Here we define several hyperparameters including `batch_size` (amount of samples in a single batch) `embedding_size` (size of embedding vectors) `window_size` (context window size)."
      ],
      "metadata": {
        "id": "O9pdSNxyOg7v"
      }
    },
    {
      "cell_type": "code",
      "source": [
        "batch_size = 4096 # Data points in a single batch\n",
        "\n",
        "embedding_size = 128 # Dimension of the embedding vector.\n",
        "\n",
        "window_size=1 # We use a window size of 1 on either side of target word\n",
        "\n",
        "epochs = 5 # Number of epochs to train for\n",
        "\n",
        "# We pick a random validation set to sample nearest neighbors\n",
        "valid_size = 16 # Random set of words to evaluate similarity on.\n",
        "# We sample valid datapoints randomly from a large window without always being deterministic\n",
        "valid_window = 250\n",
        "\n",
        "# When selecting valid examples, we select some of the most frequent words as well as\n",
        "# some moderately rare words as well\n",
        "np.random.seed(54321)\n",
        "random.seed(54321)\n",
        "\n",
        "valid_term_ids = np.array(random.sample(range(valid_window), valid_size))\n",
        "valid_term_ids = np.append(\n",
        "    valid_term_ids, random.sample(range(1000, 1000+valid_window), valid_size),\n",
        "    axis=0\n",
        ")"
      ],
      "metadata": {
        "id": "ioKJrA_aOxEL"
      },
      "execution_count": 7,
      "outputs": []
    },
    {
      "cell_type": "markdown",
      "source": [
        "### Defining the Model Computations\n",
        "\n",
        "The model takes two inputs,\n",
        "\n",
        "* A (batch of) context word ID(s) - $i$\n",
        "* A (batch of) target word ID(s) - $j$\n",
        "\n",
        "and computes the following output,\n",
        "\n",
        "$w_i.\\tilde{w}_j + b_i + \\tilde{b}_j$\n",
        "\n",
        "where, $w_i$ is the context embeddings for the words in $i$, $\\tilde{w}_j$ is target embeddings for the words in $j$, $b_i$ and $\\tilde{b}_j$ are two separate biases for context and target spaces. Then the following loss function is used,\n",
        "\n",
        "$J = f(X_{ij}) \\sum_{i,j=1}^{V} (w_i\\tilde{w}_j + b_i + \\tilde{b}_j - log(X_{ij})^2$\n",
        "\n",
        "Here, X_{ij} is the value at (i,j) position in the co-occurrence matrix and f(X_{ij}) is a simple weighting function of X_{ij}. You can see that the loss function looks of the format,\n",
        "\n",
        "$J = A ( B - C ) ^ 2 $\n",
        "\n",
        "Therefore, we will use the mean-squared-error loss and feed in $f(X_{ij})$ values as sample weights during training."
      ],
      "metadata": {
        "id": "-wgEjaBLPFCg"
      }
    },
    {
      "cell_type": "code",
      "source": [
        "import tensorflow.keras.backend as K\n",
        "from tensorflow.keras.layers import Input, Embedding, Dot, Add\n",
        "from tensorflow.keras.models import Model\n",
        "\n",
        "K.clear_session()\n",
        "\n",
        "# Define two input Layers for context and target words\n",
        "word_i = Input(shape=())\n",
        "word_j = Input(shape=())\n",
        "\n",
        "# Each context and target has their own embeddings (weights and biases)\n",
        "# Embedding weights\n",
        "embedding_i = Embedding(n_vocab, embedding_size, name='target_embedding')(word_i)\n",
        "embedding_j = Embedding(n_vocab, embedding_size, name='context_embedding')(word_j)\n",
        "\n",
        "# Embedding biases\n",
        "b_i = Embedding(n_vocab, 1, name='target_embedding_bias')(word_i)\n",
        "b_j = Embedding(n_vocab, 1, name='context_embedding_bias')(word_j)\n",
        "\n",
        "# Compute the dot product between embedding vectors (i.e. w_i.w_j)\n",
        "ij_dot = Dot(axes=-1)([embedding_i, embedding_j])\n",
        "\n",
        "# Add the biases (i.e. w_i.w_j + b_i + b_j)\n",
        "pred = Add()([ij_dot, b_i, b_j])\n",
        "\n",
        "# The final model\n",
        "glove_model = Model(inputs=[word_i, word_j], outputs=pred, name='glove_model')\n",
        "\n",
        "# Glove has a specific loss function with a sound mathematical\n",
        "# underpinning\n",
        "# It is a form of mean squared error\n",
        "glove_model.compile(loss=\"mse\", optimizer = 'adam')\n",
        "\n",
        "glove_model.summary()"
      ],
      "metadata": {
        "colab": {
          "base_uri": "https://localhost:8080/"
        },
        "id": "degoeFYXO11h",
        "outputId": "ea020681-be59-4683-c8e7-06afe3a0587d"
      },
      "execution_count": 8,
      "outputs": [
        {
          "output_type": "stream",
          "name": "stdout",
          "text": [
            "Model: \"glove_model\"\n",
            "__________________________________________________________________________________________________\n",
            " Layer (type)                Output Shape                 Param #   Connected to                  \n",
            "==================================================================================================\n",
            " input_1 (InputLayer)        [(None,)]                    0         []                            \n",
            "                                                                                                  \n",
            " input_2 (InputLayer)        [(None,)]                    0         []                            \n",
            "                                                                                                  \n",
            " target_embedding (Embeddin  (None, 128)                  1920128   ['input_1[0][0]']             \n",
            " g)                                                                                               \n",
            "                                                                                                  \n",
            " context_embedding (Embeddi  (None, 128)                  1920128   ['input_2[0][0]']             \n",
            " ng)                                                                                              \n",
            "                                                                                                  \n",
            " dot (Dot)                   (None, 1)                    0         ['target_embedding[0][0]',    \n",
            "                                                                     'context_embedding[0][0]']   \n",
            "                                                                                                  \n",
            " target_embedding_bias (Emb  (None, 1)                    15001     ['input_1[0][0]']             \n",
            " edding)                                                                                          \n",
            "                                                                                                  \n",
            " context_embedding_bias (Em  (None, 1)                    15001     ['input_2[0][0]']             \n",
            " bedding)                                                                                         \n",
            "                                                                                                  \n",
            " add (Add)                   (None, 1)                    0         ['dot[0][0]',                 \n",
            "                                                                     'target_embedding_bias[0][0]'\n",
            "                                                                    , 'context_embedding_bias[0][0\n",
            "                                                                    ]']                           \n",
            "                                                                                                  \n",
            "==================================================================================================\n",
            "Total params: 3870258 (14.76 MB)\n",
            "Trainable params: 3870258 (14.76 MB)\n",
            "Non-trainable params: 0 (0.00 Byte)\n",
            "__________________________________________________________________________________________________\n"
          ]
        }
      ]
    },
    {
      "cell_type": "markdown",
      "source": [
        "## Generating data for GloVe model\n",
        "\n",
        "The Glove model we implemented,\n",
        "\n",
        "* Takes two inputs; context words and target words\n",
        "* Computes the mean squared error as, $(\\hat{y}_{ij} - log(X_{ij}))^2$ for the model output $\\hat{y}_{ij}$\n",
        "* Use sample weights returned by $f(X_{ij})$\n",
        "\n",
        "Therefore, in the data generator we return a tuple of,\n",
        "\n",
        "`(inputs, targets, sample weights)`\n",
        "\n",
        "which translates to,\n",
        "\n",
        "`((batch of target words, batch or context words), batch of log(X_{ij}), batch of f(X_{ij})`                                "
      ],
      "metadata": {
        "id": "tbSmYp9LQf7C"
      }
    },
    {
      "cell_type": "code",
      "source": [
        "news_sequences = tokenizer.texts_to_sequences(news_stories)"
      ],
      "metadata": {
        "id": "_G9EuWK8QVd0"
      },
      "execution_count": 9,
      "outputs": []
    },
    {
      "cell_type": "code",
      "source": [
        "def glove_data_generator(\n",
        "    sequences, window_size, batch_size, vocab_size, cooccurrence_matrix, x_max=100.0, alpha=0.75, seed=None\n",
        "):\n",
        "    \"\"\" Generate batches of inputs and targets for GloVe \"\"\"\n",
        "\n",
        "    # Shuffle the data so that, every epoch, the order of data is different\n",
        "    rand_sequence_ids = np.arange(len(sequences))\n",
        "    np.random.shuffle(rand_sequence_ids)\n",
        "\n",
        "    # We will use a sampling table to make sure, we don't oversample stopwords\n",
        "    sampling_table = tf.keras.preprocessing.sequence.make_sampling_table(vocab_size)\n",
        "\n",
        "    # For ecach story/article\n",
        "    for si in rand_sequence_ids:\n",
        "      # Generate positive skip-grams while using sub-sampling\n",
        "      positive_skip_grams, _ = tf.keras.preprocessing.sequence.skipgrams(\n",
        "          sequences[si],\n",
        "          vocabulary_size=vocab_size,\n",
        "          window_size=window_size,\n",
        "          negative_samples=0.0,\n",
        "          shuffle=False,\n",
        "          sampling_table=sampling_table,\n",
        "          seed=seed\n",
        "      )\n",
        "\n",
        "      # Take targets and context words separately\n",
        "      targets, context = zip(*positive_skip_grams)\n",
        "      targets, context = np.array(targets).ravel(), np.array(context).ravel()\n",
        "\n",
        "      x_ij = np.array(cooccurrence_matrix[targets, context].toarray()).ravel()\n",
        "\n",
        "      # Compute log - Introducing an additive shift to make sure we\n",
        "      # don't compute log(0)\n",
        "      log_x_ij = np.log(x_ij + 1)\n",
        "\n",
        "      # Sample weights\n",
        "      # if x < x_max => (x/x_max)**alpha / else => 1\n",
        "      sample_weights = np.where(x_ij < x_max, (x_ij/x_max)**alpha, 1)\n",
        "\n",
        "      # If seed is not provided generate a random one\n",
        "      if not seed:\n",
        "        seed = random.randint(0, 10e6)\n",
        "\n",
        "      # Shuffle data\n",
        "      np.random.seed(seed)\n",
        "      np.random.shuffle(context)\n",
        "      np.random.seed(seed)\n",
        "      np.random.shuffle(targets)\n",
        "      np.random.seed(seed)\n",
        "      np.random.shuffle(log_x_ij)\n",
        "      np.random.seed(seed)\n",
        "      np.random.shuffle(sample_weights)\n",
        "\n",
        "      # Generate a batch or data in the format\n",
        "      # ((target words, context words), log(X_ij) <- true targets, f(X_ij) <- sample weights)\n",
        "      for eg_id_start in range(0, context.shape[0], batch_size):\n",
        "        yield(\n",
        "            targets[eg_id_start: min(eg_id_start+batch_size, targets.shape[0])],\n",
        "            context[eg_id_start: min(eg_id_start+batch_size, context.shape[0])]\n",
        "        ), log_x_ij[eg_id_start: min(eg_id_start+batch_size, log_x_ij.shape[0])], \\\n",
        "        sample_weights[eg_id_start: min(eg_id_start+batch_size, sample_weights.shape[0])]\n",
        "\n",
        "# Generate some data\n",
        "news_glove_data_gen = glove_data_generator(\n",
        "    news_sequences, 2, 10, n_vocab, cooc_mat\n",
        ")\n",
        "\n",
        "for x, y, z in news_glove_data_gen:\n",
        "    print(x)\n",
        "    print(y)\n",
        "    print(z)\n",
        "    break"
      ],
      "metadata": {
        "colab": {
          "base_uri": "https://localhost:8080/"
        },
        "id": "n-BQXszaSesX",
        "outputId": "92234170-b314-42c3-bac1-1352e119e316"
      },
      "execution_count": 10,
      "outputs": [
        {
          "output_type": "stream",
          "name": "stdout",
          "text": [
            "(array([ 684, 4599, 3841,  671, 1270,  897,  289, 2855, 8518, 1616]), array([7656, 4988, 4417,    9,    6, 1821, 1287,    3,  395, 3238]))\n",
            "[1.3862944 0.6931472 0.        1.7917595 2.3978953 2.7725887 3.2580965\n",
            " 1.3862944 0.        3.3672957]\n",
            "[0.07208434 0.03162277 0.         0.10573713 0.17782794 0.24102853\n",
            " 0.35355338 0.07208434 0.         0.38491827]\n"
          ]
        }
      ]
    },
    {
      "cell_type": "markdown",
      "source": [
        "## Training the model\n",
        "\n",
        "Here we train the GloVe model we defined above. We train for `epochs` and at the end of each epoch, we compute word similarities on a set of chosen validation words (`valid_term_ids`). Similar to in Chapter 3, we use a Keras callback to compute the most similar words.\n",
        "\n",
        "### Calculating Word Similarities\n",
        "\n",
        "We calculate the similarity between two given words in terms of the cosine distance. To do this efficiently we use matrix operations to do so, as shown below. Furthermore, we define the computations as a callback, which will automatically run at the end of an epoch during model training."
      ],
      "metadata": {
        "id": "xfJXO4gjU3tr"
      }
    },
    {
      "cell_type": "code",
      "source": [
        "class ValidationCallback(tf.keras.callbacks.Callback):\n",
        "    def __init__(self, valid_term_ids, model_with_embeddings, tokenizer):\n",
        "        self.valid_term_ids = valid_term_ids\n",
        "        self.model_with_embeddings = model_with_embeddings\n",
        "        self.tokenizer = tokenizer\n",
        "        super().__init__()\n",
        "\n",
        "    def on_epoch_end(self, epoch, logs=None):\n",
        "        \"\"\" Validation logic \"\"\"\n",
        "\n",
        "        # We will use context embeddings to get the most similar words\n",
        "        # Other strategies include: using target embeddings, mean embeddings after avaraging context/target\n",
        "        embedding_weights = self.model_with_embeddings.get_layer(\"context_embedding\").get_weights()[0]\n",
        "        normalized_embeddings = embedding_weights / np.sqrt(np.sum(embedding_weights**2, axis=1, keepdims=True))\n",
        "\n",
        "        # Get the embeddings corresponding to valid_term_ids\n",
        "        valid_embeddings = normalized_embeddings[self.valid_term_ids, :]\n",
        "\n",
        "        # Compute the similarity between valid_term_ids and all the embeddings\n",
        "        # V x d (d x D) => V x D\n",
        "        top_k = 5 # Top k items will be displayed\n",
        "        similarity = np.dot(valid_embeddings, normalized_embeddings.T)\n",
        "\n",
        "        # Invert similarity matrix to negative\n",
        "        # Ignore the first one because that would be the same word as the probe word\n",
        "        similarity_top_k = np.argsort(-similarity, axis=1)[:, 1: top_k+1]\n",
        "\n",
        "        # Print the output\n",
        "        for i, term_id in enumerate(valid_term_ids):\n",
        "\n",
        "            similar_word_str = ', '.join([self.tokenizer.index_word[j] for j in similarity_top_k[i, :] if j > 1])\n",
        "            print(f\"{self.tokenizer.index_word[term_id]}: {similar_word_str}\")\n",
        "\n",
        "        print('\\n')"
      ],
      "metadata": {
        "id": "eP7jvdD1UwZk"
      },
      "execution_count": 11,
      "outputs": []
    },
    {
      "cell_type": "code",
      "source": [
        "glove_validation_callback = ValidationCallback(valid_term_ids, glove_model, tokenizer)\n",
        "\n",
        "# Train the model for several epochs\n",
        "for ei in range(epochs):\n",
        "  print(\"Epoch: {}/{} started\".format(ei+1, epochs))\n",
        "\n",
        "  news_glove_data_gen = glove_data_generator(news_sequences, window_size, batch_size, n_vocab, cooc_mat)\n",
        "  glove_model.fit(news_glove_data_gen, epochs=1, callbacks=glove_validation_callback)"
      ],
      "metadata": {
        "colab": {
          "base_uri": "https://localhost:8080/"
        },
        "id": "zQgCyB5xVkfF",
        "outputId": "0f837837-6a06-4457-905e-a3ee4a467295"
      },
      "execution_count": 13,
      "outputs": [
        {
          "output_type": "stream",
          "name": "stdout",
          "text": [
            "Epoch: 1/5 started\n",
            "   2221/Unknown - 134s 58ms/step - loss: 0.6043election: attorney, poster, labour's, advertising\n",
            "months: weeks, years, days, times, or\n",
            "with: through, for, together, strike, government's\n",
            "you: we, they, only, now, there\n",
            "were: are, but, when, where, was\n",
            "win: put, technology, players, which\n",
            "those: work, any, many, released, part\n",
            "music: us, many, china, content\n",
            "also: it, now, there, become, only\n",
            "third: second, first, fifth, or, 15\n",
            "best: actress, category, association, shares, any\n",
            "down: government's, helped, strong, specific, off\n",
            "too: bigger, so, anticipated, go, edinburgh\n",
            "some: any, released, data, my, deal\n",
            "through: over, after, good, get, first\n",
            "mr: mikhail, tony, jack, bernie, gordon\n",
            "unit: running, one, any, against, or\n",
            "add: statistics, board, kill, airlines, computers\n",
            "trading: thursday, then, another, released, place\n",
            "along: work, time, part, the, her\n",
            "positive: but, after, good, government, all\n",
            "captain: urban, excellent, and, against, after\n",
            "written: just, a, put, means\n",
            "details: china, commons, released, challenge\n",
            "giving: go, main, second, first, things\n",
            "ruled: large, own, pirated, pension, total\n",
            "deutsche: kidney, scarlets, logical, robert, honorary\n",
            "loss: all, first, second, whole, win\n",
            "j: jon, joe, spend, i, be\n",
            "alan: mr, book, forum, ed, goal\n",
            "response: each, board, one, number, arrest\n",
            "illegal: over, and, higher, just, or\n",
            "\n",
            "\n",
            "2225/2225 [==============================] - 134s 58ms/step - loss: 0.6036\n",
            "Epoch: 2/5 started\n",
            "   2220/Unknown - 36s 16ms/step - loss: 0.0378election: attorney, motors, november's, poster, labour's\n",
            "months: weeks, days, years, past, matches\n",
            "with: bbc's, honoured, priorities, sponsorship, breach\n",
            "you: we, they, afford, understand, know\n",
            "were: when, are, where, say, but\n",
            "win: start, deal, him, end, increase\n",
            "those: artists, put, because, risk, work\n",
            "music: subscriber, divide, cameras, revolution, movies\n",
            "also: become, now, which, play, going\n",
            "third: fifth, fourth, second, short, takes\n",
            "best: actress, category, actor, supporting, due\n",
            "down: isn't, alone, catalogue, instead, helped\n",
            "too: bigger, anticipated, find, group's, how\n",
            "some: deal, developments, important, way, game\n",
            "through: around, government's, among, might, produce\n",
            "mr: 63, bernie, malcolm, mikhail, ken\n",
            "unit: one, running, number, total, important\n",
            "add: statistics, board, echoed, contrast, looking\n",
            "trading: thursday, deal, farmers, then, 16\n",
            "along: deal, work, december, round, role\n",
            "positive: way, game, after, head, government\n",
            "captain: 31, excellent, urban, seeking, group's\n",
            "written: deal, way, me, comes, work\n",
            "details: comes, movies, impact, investigations, released\n",
            "giving: intercept, go, further, things, take\n",
            "ruled: own, coming, ticket, owned, pirated\n",
            "deutsche: shareholder, austria, austria's, staff, peston's\n",
            "loss: system, officer, whole, problem, end\n",
            "j: jon, birkett, replacing, joe, cartilage\n",
            "alan: mr, 63, malcolm, bernie, ed\n",
            "response: each, u2's, awarded, millions, homes\n",
            "illegal: watching, steroids, pirated, finnish, uses\n",
            "\n",
            "\n",
            "2225/2225 [==============================] - 37s 16ms/step - loss: 0.0378\n",
            "Epoch: 3/5 started\n",
            "   2223/Unknown - 38s 17ms/step - loss: 0.0160election: attorney, poster, motors, november's, selected\n",
            "months: weeks, days, months', live, past\n",
            "with: breach, relaxation, bbc's, honoured, reopen\n",
            "you: we, they, afford, everybody, asked\n",
            "were: are, where, when, say, was\n",
            "win: start, increase, reach, end, contribution\n",
            "those: because, ensure, revealed, accused, saying\n",
            "music: divide, cameras, subscriber, refuseniks, asymmetric\n",
            "also: become, play, mean, hoping, forced\n",
            "third: fourth, long, fifth, short, takes\n",
            "best: actor, honda, actress, category, supporting\n",
            "down: microphone, catalogue, nem, searchers, 2009\n",
            "too: bigger, larger, find, voters', fanfare\n",
            "some: types, result, worsened, lot, series\n",
            "through: government's, door, comments, together, tough\n",
            "mr: 63, bernie, mikhail, article, wes\n",
            "unit: volume, ruled, began, side, latest\n",
            "add: statistics, decide, drawn, looking, facing\n",
            "trading: thursday, contact, fear, emergency, itv1\n",
            "along: deal, favour, driven, least, october\n",
            "positive: rigorous, way, during, elimination, conservatives\n",
            "captain: 31, telecom's, undisclosed, extra, construction\n",
            "written: comes, came, me, along, transport\n",
            "details: along, comes, soon, frost, tiebreak\n",
            "giving: intercept, further, miss, presley's, ict\n",
            "ruled: carried, ticket, own, find, miss\n",
            "deutsche: austria, austria's, shareholder, central, peston's\n",
            "loss: whole, problem, rest, limit, way\n",
            "j: birkett, jon, byrne, wasps, sweden's\n",
            "alan: mr, bernie, 63, ed, malcolm\n",
            "response: him, homes, order, start, freedom\n",
            "illegal: steroids, uses, construction, watching, stoke\n",
            "\n",
            "\n",
            "2225/2225 [==============================] - 38s 17ms/step - loss: 0.0159\n",
            "Epoch: 4/5 started\n",
            "   2222/Unknown - 30s 13ms/step - loss: 0.0114election: attorney, november's, motors, poster, campbell's\n",
            "months: weeks, certificate, reissues, days, prizes\n",
            "with: relaxation, breach, honoured, bbc's, reopen\n",
            "you: we, afford, they, god, happen\n",
            "were: are, where, was, say, when\n",
            "win: homes, victory, worried, talking, halt\n",
            "those: because, where, starred, wants, bought\n",
            "music: divide, cameras, refuseniks, creatures, unlimited\n",
            "also: become, forced, failed, continue, play\n",
            "third: fourth, long, replay, fifth, takes\n",
            "best: honda, category, actor, supporting, heirs\n",
            "down: downs, microphone, stubbornly, 2009, catalogue\n",
            "too: fanfare, bigger, stronger, larger, better\n",
            "some: rest, stage, accused, thousands, lot\n",
            "through: door, to, tough, fatal, comments\n",
            "mr: 63, bernie, cherie, tony, mikhail\n",
            "unit: raises, crop, increased, monumental, stockpile\n",
            "add: statistics, asked, echoed, tea, set\n",
            "trading: cpl, saturday, thursday, farmers, vanity\n",
            "along: cope, dealt, favour, deal, homes\n",
            "positive: during, rest, rigorous, way, indication\n",
            "captain: 31, telecom's, undisclosed, reacts, secondary\n",
            "written: answer, upcoming, along, intervention, laundering\n",
            "details: along, soon, sum, shortly, cope\n",
            "giving: intercept, further, presley's, tap, proposed\n",
            "ruled: carried, pointed, pulled, login, pull\n",
            "deutsche: austria, austria's, shareholder, central, accounts\n",
            "loss: rest, whole, wider, result, responsibilities\n",
            "j: birkett, jon, wasps, sweden's, byrne\n",
            "alan: mr, ousting, ameobi, bernie, 63\n",
            "response: chance, bring, homes, ensure, freedom\n",
            "illegal: steroids, uses, estimating, stoke, leaflets\n",
            "\n",
            "\n",
            "2225/2225 [==============================] - 30s 14ms/step - loss: 0.0114\n",
            "Epoch: 5/5 started\n",
            "   2221/Unknown - 25s 11ms/step - loss: 0.0093election: attorney, november's, labour's, motors, guides\n",
            "months: weeks, trophies, reissues, years, certificate\n",
            "with: reservoir, relaxation, bbc's, honoured, reopen\n",
            "you: afford, we, they, god, goodness\n",
            "were: are, was, saying, makes, timed\n",
            "win: victory, halt, recover, talk, reach\n",
            "those: because, dealer, maintains, bend, died\n",
            "music: divide, cameras, refuseniks, subscriber, mp3\n",
            "also: currently, mendes, trigger, become, continue\n",
            "third: fourth, fifth, long, short, takes\n",
            "best: heirs, category, honda, supporting, actor\n",
            "down: alone, downs, merely, stubbornly, assurances\n",
            "too: fanfare, larger, bigger, stronger, interference\n",
            "some: rest, sort, accused, kinds, series\n",
            "through: door, to, punters, advantage, bickering\n",
            "mr: bernie, kiely, cherie, 63, tony\n",
            "unit: stockpile, forthcoming, hamstring, successive, parts\n",
            "add: statistics, set, drawn, signed, wake\n",
            "trading: cpl, vanity, thursday, contact, pursuit\n",
            "along: cope, dealt, compared, favour, 2010\n",
            "positive: rigorous, during, catch, who's, conservatives\n",
            "captain: reacts, 31, telecom's, voters', secondary\n",
            "written: answer, dealt, thousands, along, outlines\n",
            "details: along, sum, soon, frost, impact\n",
            "giving: intercept, further, tap, presley's, proposed\n",
            "ruled: carried, pointed, pulled, singled, sorted\n",
            "deutsche: austria, austria's, central, shareholder, prediction\n",
            "loss: enhancing, topped, handful, problem, system\n",
            "j: jon, birkett, sa, o, sweden's\n",
            "alan: mr, bernie, ameobi, cherie, malcolm\n",
            "response: chance, bring, failed, hopes, ensure\n",
            "illegal: steroids, grokster, estimating, rasheed, ripping\n",
            "\n",
            "\n",
            "2225/2225 [==============================] - 25s 11ms/step - loss: 0.0093\n"
          ]
        }
      ]
    },
    {
      "cell_type": "markdown",
      "source": [
        "### Saving the embeddings\n",
        "We save the learned embeddings to the disk"
      ],
      "metadata": {
        "id": "dE3-sORrXw0B"
      }
    },
    {
      "cell_type": "code",
      "source": [
        "def save_embeddings(model, tokenizer, vocab_size, save_dir):\n",
        "\n",
        "    # Create the directory if doesn't exist\n",
        "    os.makedirs(save_dir, exist_ok=True)\n",
        "\n",
        "    # Get the words sorted according to their ID from the tokenizer\n",
        "    _, words_sorted = zip(*sorted(list(tokenizer.index_word.items()), key=lambda x: x[0])[:vocab_size-1])\n",
        "    # Add one word in front to represent the reserved ID (0)\n",
        "    words_sorted = [None] + list(words_sorted)\n",
        "\n",
        "    # Create a new array by concatenating embeddings and bias\n",
        "\n",
        "    context_embedding_weights = model.get_layer(\"context_embedding\").get_weights()[0]\n",
        "    context_embedding_bias = model.get_layer(\"context_embedding_bias\").get_weights()[0]\n",
        "    context_embedding = np.concatenate([context_embedding_weights, context_embedding_bias], axis=1)\n",
        "\n",
        "    target_embedding_weights = model.get_layer(\"target_embedding\").get_weights()[0]\n",
        "    target_embedding_bias = model.get_layer(\"target_embedding_bias\").get_weights()[0]\n",
        "    target_embedding = np.concatenate([target_embedding_weights, target_embedding_bias], axis=1)\n",
        "\n",
        "    # Save the array as a Pandas DataFrames\n",
        "    pd.DataFrame(\n",
        "        context_embedding,\n",
        "        index = words_sorted\n",
        "    ).to_pickle(os.path.join(save_dir, \"context_embedding_and_bias.pkl\"))\n",
        "\n",
        "    pd.DataFrame(\n",
        "        target_embedding,\n",
        "        index = words_sorted\n",
        "    ).to_pickle(os.path.join(save_dir, \"target_embedding_and_bias.pkl\"))\n",
        "\n",
        "save_embeddings(glove_model, tokenizer, n_vocab, save_dir='glove_embeddings')"
      ],
      "metadata": {
        "id": "v7VNaAPoWax9"
      },
      "execution_count": 14,
      "outputs": []
    },
    {
      "cell_type": "markdown",
      "source": [
        "---"
      ],
      "metadata": {
        "id": "L5Aw-fSZX470"
      }
    }
  ]
}